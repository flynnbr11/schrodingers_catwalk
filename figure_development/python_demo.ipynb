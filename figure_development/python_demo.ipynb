{
 "cells": [
  {
   "cell_type": "code",
   "execution_count": 1,
   "metadata": {},
   "outputs": [],
   "source": [
    "import datetime"
   ]
  },
  {
   "cell_type": "code",
   "execution_count": 12,
   "metadata": {},
   "outputs": [],
   "source": [
    "my_birthday = datetime.date(1993, 11, 11)"
   ]
  },
  {
   "cell_type": "code",
   "execution_count": 15,
   "metadata": {},
   "outputs": [
    {
     "ename": "AttributeError",
     "evalue": "'datetime.timedelta' object has no attribute 'year'",
     "output_type": "error",
     "traceback": [
      "\u001b[0;31m---------------------------------------------------------------------------\u001b[0m",
      "\u001b[0;31mAttributeError\u001b[0m                            Traceback (most recent call last)",
      "\u001b[0;32m<ipython-input-15-6552fb946963>\u001b[0m in \u001b[0;36m<module>\u001b[0;34m()\u001b[0m\n\u001b[0;32m----> 1\u001b[0;31m \u001b[0;34m(\u001b[0m\u001b[0mdatetime\u001b[0m\u001b[0;34m.\u001b[0m\u001b[0mdate\u001b[0m\u001b[0;34m.\u001b[0m\u001b[0mtoday\u001b[0m\u001b[0;34m(\u001b[0m\u001b[0;34m)\u001b[0m \u001b[0;34m-\u001b[0m \u001b[0mmy_birthday\u001b[0m\u001b[0;34m)\u001b[0m\u001b[0;34m.\u001b[0m\u001b[0myear\u001b[0m\u001b[0;34m\u001b[0m\u001b[0m\n\u001b[0m",
      "\u001b[0;31mAttributeError\u001b[0m: 'datetime.timedelta' object has no attribute 'year'"
     ]
    }
   ],
   "source": [
    "datetime.date.today() - my_birthdayb\n"
   ]
  },
  {
   "cell_type": "code",
   "execution_count": 19,
   "metadata": {},
   "outputs": [],
   "source": [
    "today = datetime.date.today()"
   ]
  },
  {
   "cell_type": "code",
   "execution_count": 24,
   "metadata": {},
   "outputs": [],
   "source": [
    "age = today - my_birthday"
   ]
  },
  {
   "cell_type": "code",
   "execution_count": 30,
   "metadata": {},
   "outputs": [
    {
     "data": {
      "text/plain": [
       "26.986301369863014"
      ]
     },
     "execution_count": 30,
     "metadata": {},
     "output_type": "execute_result"
    }
   ],
   "source": [
    "age.days / 365"
   ]
  },
  {
   "cell_type": "code",
   "execution_count": 16,
   "metadata": {},
   "outputs": [
    {
     "data": {
      "text/plain": [
       "7155"
      ]
     },
     "execution_count": 16,
     "metadata": {},
     "output_type": "execute_result"
    }
   ],
   "source": [
    "27*265"
   ]
  },
  {
   "cell_type": "code",
   "execution_count": 31,
   "metadata": {},
   "outputs": [],
   "source": [
    "import numpy as np"
   ]
  },
  {
   "cell_type": "code",
   "execution_count": 32,
   "metadata": {},
   "outputs": [
    {
     "data": {
      "text/plain": [
       "2.0"
      ]
     },
     "execution_count": 32,
     "metadata": {},
     "output_type": "execute_result"
    }
   ],
   "source": [
    "np.floor(2.1)"
   ]
  },
  {
   "cell_type": "code",
   "execution_count": 162,
   "metadata": {},
   "outputs": [],
   "source": [
    "class Athlete():\n",
    "    \n",
    "    def __init__(\n",
    "        self, \n",
    "        name, \n",
    "        birth_day, \n",
    "        birth_month, \n",
    "        birth_year, \n",
    "    ):\n",
    "        # Use information given\n",
    "        self.name = name\n",
    "        self.date_of_birth = datetime.date(\n",
    "            birth_year, birth_month, birth_day\n",
    "        )\n",
    "        \n",
    "    def age(self, round_down=True):\n",
    "        days_since_birth = datetime.date.today() - self.date_of_birth\n",
    "        age = days_since_birth.days / 365\n",
    "        \n",
    "        if round_down:\n",
    "            age = int(age)\n",
    "        \n",
    "        return age\n",
    "    \n",
    "    def summary(self):\n",
    "        summary = \"{name} is a {age}-year old athlete.\".format(\n",
    "            name = self.name, \n",
    "            age = self.age()\n",
    "        )\n",
    "        print(summary)\n",
    "        \n",
    "        \n",
    "bob = Athlete(\n",
    "    name='Bob',\n",
    "    birth_day = 11,\n",
    "    birth_month = 11, \n",
    "    birth_year = 1993, \n",
    ")\n",
    "bob.summary()"
   ]
  },
  {
   "cell_type": "code",
   "execution_count": 159,
   "metadata": {},
   "outputs": [
    {
     "name": "stdout",
     "output_type": "stream",
     "text": [
      "Big Mickey plays for QECDT-FC and has scored 10 goals.\n"
     ]
    }
   ],
   "source": [
    "class Footballer(Athlete):\n",
    "    def __init__(\n",
    "        self, \n",
    "        footed,\n",
    "        team, \n",
    "        size = 'medium',\n",
    "        **kwargs\n",
    "    ):\n",
    "        # Pass arguments to the parent class\n",
    "        super().__init__(**kwargs)\n",
    "        \n",
    "        # Use information given\n",
    "        self.team = team\n",
    "        self.footed = footed\n",
    "        self.size = size\n",
    "        \n",
    "        # Default attributes\n",
    "        self.goals_scored = 0 \n",
    "\n",
    "    def summarise(self):\n",
    "        summary = \"{size} {player} plays for {team} and has scored {num_goals} goals.\".format(\n",
    "            size = self.size, \n",
    "            player = self.name, \n",
    "            team = self.team, \n",
    "            num_goals = self.goals_scored\n",
    "        )\n",
    "        print(summary)\n",
    "        \n",
    "    def record_goals(self, num_new_goals):\n",
    "        self.goals_scored += num_new_goals\n",
    "        \n",
    "        \n",
    "mickey = Footballer(\n",
    "    name = 'Mickey', \n",
    "    footed = 'right',\n",
    "    team = 'QECDT-FC',\n",
    "    birth_day = 1,\n",
    "    birth_month = 1, \n",
    "    birth_year = 1990,\n",
    "    size = 'Big'\n",
    ")\n",
    "mickey.record_goals(num_new_goals = 10)\n",
    "mickey.summarise()"
   ]
  },
  {
   "cell_type": "code",
   "execution_count": null,
   "metadata": {},
   "outputs": [],
   "source": []
  },
  {
   "cell_type": "code",
   "execution_count": null,
   "metadata": {},
   "outputs": [],
   "source": []
  }
 ],
 "metadata": {
  "kernelspec": {
   "display_name": "Python 3",
   "language": "python",
   "name": "python3"
  },
  "language_info": {
   "codemirror_mode": {
    "name": "ipython",
    "version": 3
   },
   "file_extension": ".py",
   "mimetype": "text/x-python",
   "name": "python",
   "nbconvert_exporter": "python",
   "pygments_lexer": "ipython3",
   "version": "3.5.2"
  }
 },
 "nbformat": 4,
 "nbformat_minor": 2
}
