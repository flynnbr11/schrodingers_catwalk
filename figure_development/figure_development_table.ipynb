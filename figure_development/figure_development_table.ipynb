{
 "cells": [
  {
   "cell_type": "markdown",
   "metadata": {},
   "source": [
    "# NOTE : must use kernel with pandas version > 1"
   ]
  },
  {
   "cell_type": "code",
   "execution_count": 63,
   "metadata": {},
   "outputs": [],
   "source": [
    "import os \n",
    "import sys\n",
    "import pandas as pd\n",
    "import datetime\n",
    "\n",
    "import numpy as np\n",
    "from pprint import pprint"
   ]
  },
  {
   "cell_type": "code",
   "execution_count": null,
   "metadata": {},
   "outputs": [],
   "source": [
    "# Extract labels of all figures\n",
    "import TexSoup\n",
    "\n",
    "thesis_tex = open(os.path.join(\"..\", \"thesis.aux\",), \"r\")\n",
    "\n",
    "soup = TexSoup.TexSoup(thesis_tex)\n",
    "\n",
    "newlabels = list(soup.find_all(\"newlabel\"))\n",
    "\n",
    "all_fig_labels = np.array(newlabels)[[\"fig:\" in str(n) for n in newlabels]]\n",
    "\n",
    "figure_labels = {\n",
    "    f[0] : f[1][0]\n",
    "    for f in all_fig_labels\n",
    "    if \"cref\" not in f[0]\n",
    "}"
   ]
  },
  {
   "cell_type": "code",
   "execution_count": 280,
   "metadata": {},
   "outputs": [],
   "source": [
    "def new_figure(\n",
    "    latex_label, \n",
    "    n_exp, \n",
    "    n_prt, \n",
    "    algorithm='QHL', \n",
    "    plot_level=2, \n",
    "    method='N/A', \n",
    "    exploration_strategy='N/A',\n",
    "    probes_used=\"random\", \n",
    "    comment=\"\", \n",
    "    run_time=0,\n",
    "    folder=\"single_instance_plots\",\n",
    "    data_folder=\"N/A\",\n",
    "    plot_name=\"\", \n",
    "):\n",
    "    r\"\"\" \n",
    "    Format the implementation details of a given figure. \n",
    "    \"\"\"\n",
    "    label = figure_labels[latex_label]\n",
    "    fig_details = {\n",
    "        \"Figure\" : r\"\\cref{{{label}}}\".format(label = latex_label),  \n",
    "        \"Label\" : label, \n",
    "        \"Algorithm\" : algorithm, \n",
    "        \"$N_E$\" : n_exp, \n",
    "        \"$N_P$\" : n_prt, \n",
    "        \"Experiments\" : n_exp, \n",
    "        \"Particles\" : n_prt, \n",
    "        \"Plot level\" : plot_level, \n",
    "        \"Plot method\" : method,\n",
    "        \"Exploration Strategy\" : r\"\\texttt{{{es}}}\".format(es=exploration_strategy), \n",
    "        \"Exploration\" : exploration_strategy, \n",
    "        \"Run time\" : datetime.timedelta(seconds=run_time), # seconds\n",
    "        \"Probes\" : probes_used, \n",
    "        \"Data folder\" : data_folder,\n",
    "        \"Data\" : r\"{}\".format(data_folder.replace('_', '\\\\_')), \n",
    "        \"Comment\" : r\"{}\".format(comment), \n",
    "        \"Folder\" : r\"{}\".format(folder.replace('_', '\\\\_')), \n",
    "        \"Name\" : r\"{}\".format(plot_name.replace('_', '\\\\_')), \n",
    "    }\n",
    "    \n",
    "    return pd.Series(fig_details)\n",
    "    \n"
   ]
  },
  {
   "cell_type": "code",
   "execution_count": 284,
   "metadata": {},
   "outputs": [],
   "source": [
    "all_figures = [\n",
    "    # Analytical likelihood\n",
    "    new_figure(\n",
    "        latex_label = \"fig:param_learning_vary_particles\", \n",
    "        n_exp = 500, \n",
    "        n_prt = 2000, \n",
    "        plot_level = 4, \n",
    "        method = \"_plot_learning_summary\",\n",
    "        exploration_strategy = 'AnalyticalLikelihood',      \n",
    "        run_time = 715,\n",
    "        data_folder = \"Nov_16/14_28\",\n",
    "        folder = \"single_instance_plots\",\n",
    "        plot_name = \"learning_summary\"\n",
    "    ),\n",
    "    # Ising model types demo\n",
    "    new_figure(\n",
    "        latex_label = \"fig:ising_two_param_learning\", \n",
    "        n_exp = 500, \n",
    "        n_prt = 5000, \n",
    "        plot_level = 6, \n",
    "        method = \"_plot_learning_summary\",\n",
    "        exploration_strategy = 'DemoIsing',         \n",
    "        run_time = 11630,\n",
    "        data_folder = \"Nov_18/13_56\",\n",
    "        plot_name = \"learning_summary\"\n",
    "    ),\n",
    "    new_figure(\n",
    "        latex_label = \"fig:ising_fully_parameterised\", \n",
    "        n_exp = 1000, \n",
    "        n_prt = 5000, \n",
    "        plot_level = 6, \n",
    "        method = \"_plot_learning_summary\",\n",
    "        exploration_strategy = 'DemoIsing',         \n",
    "        run_time = 11630,\n",
    "        data_folder = \"Nov_18/13_56\",\n",
    "        plot_name = \"learning_summary\"\n",
    "    ),\n",
    "    new_figure(\n",
    "        latex_label = \"fig:ising_model_types_dynamics\", \n",
    "        n_exp = 1000, \n",
    "        n_prt = 5000, \n",
    "        plot_level = 6, \n",
    "        method = \"_plot_dynamics\",\n",
    "        exploration_strategy = 'DemoIsing',         \n",
    "        run_time = 11630,\n",
    "        data_folder = \"Nov_18/13_56\",\n",
    "        plot_name = \"dynamics\"\n",
    "    ),\n",
    "\n",
    "    # Lattice QMLA\n",
    "    new_figure(\n",
    "        latex_label = \"fig:lattice_qmla_eg\", \n",
    "        n_exp = 1000, \n",
    "        n_prt = 4000, \n",
    "        plot_level = 6, \n",
    "        exploration_strategy = 'IsingLatticeSet',         \n",
    "        algorithm=\"QMLA\",\n",
    "        run_time = 13000,\n",
    "        data_folder = \"Nov_19/12_04\",\n",
    "    ),\n",
    "    \n",
    "    # Lattices success rates\n",
    "    new_figure(\n",
    "        latex_label = \"fig:lattice_success_rates\", \n",
    "        n_exp = 1000, \n",
    "        n_prt = 4000, \n",
    "        algorithm=\"QMLA\",\n",
    "        exploration_strategy = 'IsingLatticeSet',         \n",
    "        run_time = 20000,\n",
    "        data_folder = \"Sep_30/22_40\",\n",
    "    ),\n",
    "    new_figure(\n",
    "        latex_label = \"fig:lattice_success_rates\", \n",
    "        n_exp = 1000, \n",
    "        n_prt = 4000, \n",
    "        algorithm=\"QMLA\",\n",
    "        exploration_strategy = 'HeisenbergLatticeSet',         \n",
    "        run_time = 20000,\n",
    "        data_folder = \"Oct_22/20_45\",\n",
    "    ),   \n",
    "    new_figure(\n",
    "        latex_label = \"fig:lattice_success_rates\", \n",
    "        n_exp = 1000, \n",
    "        n_prt = 4000, \n",
    "        algorithm=\"QMLA\",\n",
    "        exploration_strategy = 'FermiHubbardLatticeSet',         \n",
    "        run_time = 120000,\n",
    "        probes_used=\"Half filled basis\",\n",
    "        data_folder = \"Oct_02/00_09\",\n",
    "    ),   \n",
    "    \n",
    "    # Bayes factors by F score\n",
    "    new_figure(\n",
    "        latex_label = \"fig:bf_by_fscore\", \n",
    "        n_exp = 500, \n",
    "        n_prt = 2500, \n",
    "        algorithm=\"QMLA\",\n",
    "        exploration_strategy = 'DemoBayesFactorsByFscore',         \n",
    "        run_time = 4000,\n",
    "        data_folder = \"Dec_09/12_29\",\n",
    "    ),   \n",
    "    new_figure(\n",
    "        latex_label = \"fig:bf_by_fscore\", \n",
    "        n_exp = 500, \n",
    "        n_prt = 2500, \n",
    "        algorithm=\"QMLA\",\n",
    "        exploration_strategy = 'DemoFractionalResourcesBayesFactorsByFscore',         \n",
    "        run_time = 4000,\n",
    "        data_folder = \"Dec_09/12_31\",\n",
    "    ),   \n",
    "    new_figure(\n",
    "        latex_label = \"fig:bf_by_fscore\", \n",
    "        n_exp = 1000, \n",
    "        n_prt = 5000, \n",
    "        algorithm=\"QMLA\",\n",
    "        exploration_strategy = 'DemoBayesFactorsByFscore',         \n",
    "        run_time = 4000,\n",
    "        data_folder = \"Dec_09/12_33\",\n",
    "    ),   \n",
    "    new_figure(\n",
    "        latex_label = \"fig:bf_by_fscore\", \n",
    "        n_exp = 500, \n",
    "        n_prt = 2500, \n",
    "        algorithm=\"QMLA\",\n",
    "        exploration_strategy = 'DemoBayesFactorsByFscoreEloGraphs',         \n",
    "        run_time = 4000,\n",
    "        data_folder = \"Dec_09/12_32\",\n",
    "    ),   \n",
    "]"
   ]
  },
  {
   "cell_type": "code",
   "execution_count": 285,
   "metadata": {},
   "outputs": [],
   "source": [
    "figure_df = pd.DataFrame(all_figures)"
   ]
  },
  {
   "cell_type": "markdown",
   "metadata": {},
   "source": [
    "# Table for inclusion in thesis - succinct"
   ]
  },
  {
   "cell_type": "code",
   "execution_count": 286,
   "metadata": {},
   "outputs": [],
   "source": [
    "thesis_cols = [\n",
    "    # order for columns and which to include\n",
    "    \"Figure\",\n",
    "    \"Exploration Strategy\",\n",
    "    \"Algorithm\",\n",
    "    \"$N_E$\",\n",
    "    \"$N_P$\",\n",
    "    \"Data\",\n",
    "]\n",
    "thesis_fig_table = figure_df[thesis_cols]\n",
    "# TODO separate tables with groups of columns, to put on separate pages"
   ]
  },
  {
   "cell_type": "code",
   "execution_count": 287,
   "metadata": {},
   "outputs": [],
   "source": [
    "thesis_fig_table.set_index(\n",
    "    [\"Figure\", \"Exploration Strategy\"], \n",
    "#     \"Figure\",\n",
    "    inplace=True\n",
    ")\n",
    "table_path = os.path.join(\n",
    "    \"..\", \"appendix\", \"figures\", \n",
    "    'figure_implementations.tex',\n",
    ")\n",
    "\n",
    "\n",
    "# col_fmt = 'c|'*len(df_cols)\n",
    "\n",
    "table = thesis_fig_table.to_latex(\n",
    "    buf=None, \n",
    "    bold_rows=False,\n",
    "    float_format=\"{:0.3g}\".format,\n",
    "    escape=False,\n",
    "    multirow=True,\n",
    "#     column_format=col_fmt,\n",
    "    index_names=True,\n",
    "    col_space = 40, \n",
    ")\n",
    "\n",
    "table = table.replace(\"\\\\toprule\", \"\\\\hline\")\n",
    "table = table.replace(\"\\\\bottomrule\", \"\\\\hline\")\n",
    "# table = table.replace(\"\\\\multirow\", \"\\\\hline \\\\multirow\")\n",
    "table = table.replace(\"Metric\", \"\")\n",
    "\n",
    "with open(table_path, 'w') as f:\n",
    "    f.write(table)"
   ]
  },
  {
   "cell_type": "markdown",
   "metadata": {},
   "source": [
    "# Table with further data"
   ]
  },
  {
   "cell_type": "code",
   "execution_count": 288,
   "metadata": {},
   "outputs": [
    {
     "data": {
      "text/plain": [
       "Index(['Figure', 'Label', 'Algorithm', '$N_E$', '$N_P$', 'Experiments',\n",
       "       'Particles', 'Plot level', 'Plot method', 'Exploration Strategy',\n",
       "       'Exploration', 'Run time', 'Probes', 'Data folder', 'Data', 'Comment',\n",
       "       'Folder', 'Name'],\n",
       "      dtype='object')"
      ]
     },
     "execution_count": 288,
     "metadata": {},
     "output_type": "execute_result"
    }
   ],
   "source": [
    "figure_df.keys()"
   ]
  },
  {
   "cell_type": "code",
   "execution_count": 289,
   "metadata": {},
   "outputs": [],
   "source": [
    "further_data = [\n",
    "    # order for columns and which to include\n",
    "    \"Label\",\n",
    "    \"Exploration\",\n",
    "    \"Algorithm\",\n",
    "    \"Plot level\",\n",
    "    \"Plot method\",\n",
    "    \"Comment\", \n",
    "    \"Data folder\",\n",
    "]\n",
    "\n",
    "extended_fig_table = figure_df[further_data]"
   ]
  },
  {
   "cell_type": "code",
   "execution_count": 295,
   "metadata": {},
   "outputs": [],
   "source": [
    "extended_fig_table = extended_fig_table.sort_values('Label')"
   ]
  },
  {
   "cell_type": "code",
   "execution_count": 258,
   "metadata": {},
   "outputs": [],
   "source": [
    "# col_fmt = 'c|'*len(df_cols)\n",
    "\n",
    "md_table = extended_fig_table.to_markdown(\n",
    "    buf=None, \n",
    ")\n",
    "\n",
    "markdown_path = os.path.join(\n",
    "    \"..\", \"appendix\", \"figures\", \n",
    "    'figure_implementations.md',\n",
    ")\n",
    "with open(markdown_path, 'w') as f:\n",
    "    f.write(md_table)"
   ]
  },
  {
   "cell_type": "code",
   "execution_count": 259,
   "metadata": {},
   "outputs": [
    {
     "data": {
      "text/plain": [
       "'|    |   Label | Exploration Strategy                                 | Algorithm   |   $N_E$ |   $N_P$ |   Level | Method                             | Comment   | Run time        | Data           |\\n|---:|--------:|:-----------------------------------------------------|:------------|--------:|--------:|--------:|:-----------------------------------|:----------|:----------------|:---------------|\\n|  0 |     4.2 | \\\\texttt{AnalyticalLikelihood}                        | QHL         |     500 |    2000 |       4 | \\\\texttt{\\\\_plot\\\\_learning\\\\_summary} |           | 0 days 00:11:55 | Nov\\\\_16/14\\\\_28 |\\n|  1 |     7.2 | \\\\texttt{DemoIsing}                                   | QHL         |     500 |    5000 |       6 | \\\\texttt{\\\\_plot\\\\_learning\\\\_summary} |           | 0 days 03:13:50 | Nov\\\\_18/13\\\\_56 |\\n|  2 |     7.3 | \\\\texttt{DemoIsing}                                   | QHL         |    1000 |    5000 |       6 | \\\\texttt{\\\\_plot\\\\_learning\\\\_summary} |           | 0 days 03:13:50 | Nov\\\\_18/13\\\\_56 |\\n|  3 |     7.4 | \\\\texttt{DemoIsing}                                   | QHL         |    1000 |    5000 |       6 | \\\\texttt{\\\\_plot\\\\_dynamics}          |           | 0 days 03:13:50 | Nov\\\\_18/13\\\\_56 |\\n|  4 |     7.5 | \\\\texttt{IsingLatticeSet}                             | QMLA        |    1000 |    4000 |       6 | \\\\texttt{N/A}                       |           | 0 days 03:36:40 | Nov\\\\_19/12\\\\_04 |\\n|  5 |     7.6 | \\\\texttt{IsingLatticeSet}                             | QMLA        |    1000 |    4000 |       2 | \\\\texttt{N/A}                       |           | 0 days 05:33:20 | Sep\\\\_30/22\\\\_40 |\\n|  6 |     7.6 | \\\\texttt{HeisenbergLatticeSet}                        | QMLA        |    1000 |    4000 |       2 | \\\\texttt{N/A}                       |           | 0 days 05:33:20 | Oct\\\\_22/20\\\\_45 |\\n|  7 |     7.6 | \\\\texttt{FermiHubbardLatticeSet}                      | QMLA        |    1000 |    4000 |       2 | \\\\texttt{N/A}                       |           | 1 days 09:20:00 | Oct\\\\_02/00\\\\_09 |\\n|  8 |     9.2 | \\\\texttt{DemoBayesFactorsByFscore}                    | QMLA        |     500 |    2500 |       2 | \\\\texttt{N/A}                       |           | 0 days 01:06:40 | Dec\\\\_09/12\\\\_29 |\\n|  9 |     9.2 | \\\\texttt{DemoFractionalResourcesBayesFactorsByFscore} | QMLA        |     500 |    2500 |       2 | \\\\texttt{N/A}                       |           | 0 days 01:06:40 | Dec\\\\_09/12\\\\_31 |\\n| 10 |     9.2 | \\\\texttt{DemoBayesFactorsByFscore}                    | QMLA        |    1000 |    5000 |       2 | \\\\texttt{N/A}                       |           | 0 days 01:06:40 | Dec\\\\_09/12\\\\_33 |\\n| 11 |     9.2 | \\\\texttt{DemoBayesFactorsByFscoreEloGraphs}           | QMLA        |     500 |    2500 |       2 | \\\\texttt{N/A}                       |           | 0 days 01:06:40 | Dec\\\\_09/12\\\\_32 |'"
      ]
     },
     "execution_count": 259,
     "metadata": {},
     "output_type": "execute_result"
    }
   ],
   "source": [
    "md_table"
   ]
  },
  {
   "cell_type": "code",
   "execution_count": 260,
   "metadata": {},
   "outputs": [],
   "source": [
    "# col_fmt = 'c|'*len(df_cols)\n",
    "\n",
    "html_table = extended_fig_table.to_html(\n",
    "    buf=None, \n",
    "    bold_rows=False,\n",
    "    float_format=\"{:0.3g}\".format,\n",
    "    escape=False,\n",
    "#     multirow=True,\n",
    "    index_names=True,\n",
    "    col_space = 40, \n",
    ")\n",
    "\n",
    "html_path = os.path.join(\n",
    "    \"..\", \"appendix\", \"figures\", \n",
    "    'figure_implementations.html',\n",
    ")\n",
    "with open(html_path, 'w') as f:\n",
    "    f.write(html_table)"
   ]
  },
  {
   "cell_type": "code",
   "execution_count": 261,
   "metadata": {},
   "outputs": [
    {
     "data": {
      "text/plain": [
       "'<table border=\"1\" class=\"dataframe\">\\n  <thead>\\n    <tr style=\"text-align: right;\">\\n      <th style=\"min-width: 40px;\"></th>\\n      <th style=\"min-width: 40px;\">Label</th>\\n      <th style=\"min-width: 40px;\">Exploration Strategy</th>\\n      <th style=\"min-width: 40px;\">Algorithm</th>\\n      <th style=\"min-width: 40px;\">$N_E$</th>\\n      <th style=\"min-width: 40px;\">$N_P$</th>\\n      <th style=\"min-width: 40px;\">Level</th>\\n      <th style=\"min-width: 40px;\">Method</th>\\n      <th style=\"min-width: 40px;\">Comment</th>\\n      <th style=\"min-width: 40px;\">Run time</th>\\n      <th style=\"min-width: 40px;\">Data</th>\\n    </tr>\\n  </thead>\\n  <tbody>\\n    <tr>\\n      <td>0</td>\\n      <td>4.2</td>\\n      <td>\\\\texttt{AnalyticalLikelihood}</td>\\n      <td>QHL</td>\\n      <td>500</td>\\n      <td>2000</td>\\n      <td>4</td>\\n      <td>\\\\texttt{\\\\_plot\\\\_learning\\\\_summary}</td>\\n      <td></td>\\n      <td>0 days 00:11:55</td>\\n      <td>Nov\\\\_16/14\\\\_28</td>\\n    </tr>\\n    <tr>\\n      <td>1</td>\\n      <td>7.2</td>\\n      <td>\\\\texttt{DemoIsing}</td>\\n      <td>QHL</td>\\n      <td>500</td>\\n      <td>5000</td>\\n      <td>6</td>\\n      <td>\\\\texttt{\\\\_plot\\\\_learning\\\\_summary}</td>\\n      <td></td>\\n      <td>0 days 03:13:50</td>\\n      <td>Nov\\\\_18/13\\\\_56</td>\\n    </tr>\\n    <tr>\\n      <td>2</td>\\n      <td>7.3</td>\\n      <td>\\\\texttt{DemoIsing}</td>\\n      <td>QHL</td>\\n      <td>1000</td>\\n      <td>5000</td>\\n      <td>6</td>\\n      <td>\\\\texttt{\\\\_plot\\\\_learning\\\\_summary}</td>\\n      <td></td>\\n      <td>0 days 03:13:50</td>\\n      <td>Nov\\\\_18/13\\\\_56</td>\\n    </tr>\\n    <tr>\\n      <td>3</td>\\n      <td>7.4</td>\\n      <td>\\\\texttt{DemoIsing}</td>\\n      <td>QHL</td>\\n      <td>1000</td>\\n      <td>5000</td>\\n      <td>6</td>\\n      <td>\\\\texttt{\\\\_plot\\\\_dynamics}</td>\\n      <td></td>\\n      <td>0 days 03:13:50</td>\\n      <td>Nov\\\\_18/13\\\\_56</td>\\n    </tr>\\n    <tr>\\n      <td>4</td>\\n      <td>7.5</td>\\n      <td>\\\\texttt{IsingLatticeSet}</td>\\n      <td>QMLA</td>\\n      <td>1000</td>\\n      <td>4000</td>\\n      <td>6</td>\\n      <td>\\\\texttt{N/A}</td>\\n      <td></td>\\n      <td>0 days 03:36:40</td>\\n      <td>Nov\\\\_19/12\\\\_04</td>\\n    </tr>\\n    <tr>\\n      <td>5</td>\\n      <td>7.6</td>\\n      <td>\\\\texttt{IsingLatticeSet}</td>\\n      <td>QMLA</td>\\n      <td>1000</td>\\n      <td>4000</td>\\n      <td>2</td>\\n      <td>\\\\texttt{N/A}</td>\\n      <td></td>\\n      <td>0 days 05:33:20</td>\\n      <td>Sep\\\\_30/22\\\\_40</td>\\n    </tr>\\n    <tr>\\n      <td>6</td>\\n      <td>7.6</td>\\n      <td>\\\\texttt{HeisenbergLatticeSet}</td>\\n      <td>QMLA</td>\\n      <td>1000</td>\\n      <td>4000</td>\\n      <td>2</td>\\n      <td>\\\\texttt{N/A}</td>\\n      <td></td>\\n      <td>0 days 05:33:20</td>\\n      <td>Oct\\\\_22/20\\\\_45</td>\\n    </tr>\\n    <tr>\\n      <td>7</td>\\n      <td>7.6</td>\\n      <td>\\\\texttt{FermiHubbardLatticeSet}</td>\\n      <td>QMLA</td>\\n      <td>1000</td>\\n      <td>4000</td>\\n      <td>2</td>\\n      <td>\\\\texttt{N/A}</td>\\n      <td></td>\\n      <td>1 days 09:20:00</td>\\n      <td>Oct\\\\_02/00\\\\_09</td>\\n    </tr>\\n    <tr>\\n      <td>8</td>\\n      <td>9.2</td>\\n      <td>\\\\texttt{DemoBayesFactorsByFscore}</td>\\n      <td>QMLA</td>\\n      <td>500</td>\\n      <td>2500</td>\\n      <td>2</td>\\n      <td>\\\\texttt{N/A}</td>\\n      <td></td>\\n      <td>0 days 01:06:40</td>\\n      <td>Dec\\\\_09/12\\\\_29</td>\\n    </tr>\\n    <tr>\\n      <td>9</td>\\n      <td>9.2</td>\\n      <td>\\\\texttt{DemoFractionalResourcesBayesFactorsByFscore}</td>\\n      <td>QMLA</td>\\n      <td>500</td>\\n      <td>2500</td>\\n      <td>2</td>\\n      <td>\\\\texttt{N/A}</td>\\n      <td></td>\\n      <td>0 days 01:06:40</td>\\n      <td>Dec\\\\_09/12\\\\_31</td>\\n    </tr>\\n    <tr>\\n      <td>10</td>\\n      <td>9.2</td>\\n      <td>\\\\texttt{DemoBayesFactorsByFscore}</td>\\n      <td>QMLA</td>\\n      <td>1000</td>\\n      <td>5000</td>\\n      <td>2</td>\\n      <td>\\\\texttt{N/A}</td>\\n      <td></td>\\n      <td>0 days 01:06:40</td>\\n      <td>Dec\\\\_09/12\\\\_33</td>\\n    </tr>\\n    <tr>\\n      <td>11</td>\\n      <td>9.2</td>\\n      <td>\\\\texttt{DemoBayesFactorsByFscoreEloGraphs}</td>\\n      <td>QMLA</td>\\n      <td>500</td>\\n      <td>2500</td>\\n      <td>2</td>\\n      <td>\\\\texttt{N/A}</td>\\n      <td></td>\\n      <td>0 days 01:06:40</td>\\n      <td>Dec\\\\_09/12\\\\_32</td>\\n    </tr>\\n  </tbody>\\n</table>'"
      ]
     },
     "execution_count": 261,
     "metadata": {},
     "output_type": "execute_result"
    }
   ],
   "source": [
    "html_table"
   ]
  },
  {
   "cell_type": "code",
   "execution_count": null,
   "metadata": {},
   "outputs": [],
   "source": []
  }
 ],
 "metadata": {
  "kernelspec": {
   "display_name": "phasecraft-env",
   "language": "python",
   "name": "phasecraft-env"
  },
  "language_info": {
   "codemirror_mode": {
    "name": "ipython",
    "version": 3
   },
   "file_extension": ".py",
   "mimetype": "text/x-python",
   "name": "python",
   "nbconvert_exporter": "python",
   "pygments_lexer": "ipython3",
   "version": "3.6.12"
  }
 },
 "nbformat": 4,
 "nbformat_minor": 2
}
