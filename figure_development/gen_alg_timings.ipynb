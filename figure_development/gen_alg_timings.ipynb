{
 "cells": [
  {
   "cell_type": "code",
   "execution_count": 3,
   "metadata": {},
   "outputs": [],
   "source": [
    "from scipy import special\n",
    "\n",
    "import pandas as pd\n",
    "\n",
    "import numpy as np"
   ]
  },
  {
   "cell_type": "markdown",
   "metadata": {},
   "source": [
    "## quickly get ballpark estimate of how long it would take to run various widths/depths"
   ]
  },
  {
   "cell_type": "code",
   "execution_count": 43,
   "metadata": {},
   "outputs": [],
   "source": [
    "timings = pd.DataFrame()\n",
    "ng = 64\n",
    "for ng in [32, 64]:\n",
    "    for nm in [28, 42, 60]:\n",
    "        nbf = special.comb(nm, 2)\n",
    "        elo_nbf = nbf/2\n",
    "\n",
    "        num_rounds_training = np.ceil(nm/15)\n",
    "        num_rounds_bf = np.ceil(nbf/15)\n",
    "        num_rounds_bf_elo = np.ceil(elo_nbf/15)\n",
    "\n",
    "        time_unit = 60 # minutes\n",
    "        gen_time = int((num_rounds_training*tq + num_rounds_bf*tb)/time_unit)\n",
    "        elo_gen_time = int((num_rounds_training*tq + num_rounds_bf_elo*tb)/time_unit)\n",
    "\n",
    "        total_time = (gen_time*ng)/60\n",
    "        elo_total_time = (elo_gen_time*ng)/60\n",
    "\n",
    "        outcome = pd.Series({\n",
    "            r\"$N_g$\" : ng, \n",
    "            r\"$N_m$\" : nm, \n",
    "            r\"$t$\" : gen_time, \n",
    "            r\"$t_E$\" : elo_gen_time,\n",
    "            r\"$T$\" : total_time, \n",
    "            r\"$T_E$\" : elo_total_time, \n",
    "        })\n",
    "        timings = timings.append(outcome, ignore_index=True)"
   ]
  },
  {
   "cell_type": "code",
   "execution_count": 44,
   "metadata": {},
   "outputs": [
    {
     "data": {
      "text/html": [
       "<div>\n",
       "<style scoped>\n",
       "    .dataframe tbody tr th:only-of-type {\n",
       "        vertical-align: middle;\n",
       "    }\n",
       "\n",
       "    .dataframe tbody tr th {\n",
       "        vertical-align: top;\n",
       "    }\n",
       "\n",
       "    .dataframe thead th {\n",
       "        text-align: right;\n",
       "    }\n",
       "</style>\n",
       "<table border=\"1\" class=\"dataframe\">\n",
       "  <thead>\n",
       "    <tr style=\"text-align: right;\">\n",
       "      <th></th>\n",
       "      <th>$N_g$</th>\n",
       "      <th>$N_m$</th>\n",
       "      <th>$T$</th>\n",
       "      <th>$T_E$</th>\n",
       "      <th>$t$</th>\n",
       "      <th>$t_E$</th>\n",
       "    </tr>\n",
       "  </thead>\n",
       "  <tbody>\n",
       "    <tr>\n",
       "      <th>0</th>\n",
       "      <td>32.0</td>\n",
       "      <td>28.0</td>\n",
       "      <td>27.200000</td>\n",
       "      <td>20.266667</td>\n",
       "      <td>51.0</td>\n",
       "      <td>38.0</td>\n",
       "    </tr>\n",
       "    <tr>\n",
       "      <th>1</th>\n",
       "      <td>32.0</td>\n",
       "      <td>42.0</td>\n",
       "      <td>50.666667</td>\n",
       "      <td>35.200000</td>\n",
       "      <td>95.0</td>\n",
       "      <td>66.0</td>\n",
       "    </tr>\n",
       "    <tr>\n",
       "      <th>2</th>\n",
       "      <td>32.0</td>\n",
       "      <td>60.0</td>\n",
       "      <td>89.600000</td>\n",
       "      <td>58.133333</td>\n",
       "      <td>168.0</td>\n",
       "      <td>109.0</td>\n",
       "    </tr>\n",
       "    <tr>\n",
       "      <th>3</th>\n",
       "      <td>64.0</td>\n",
       "      <td>28.0</td>\n",
       "      <td>54.400000</td>\n",
       "      <td>40.533333</td>\n",
       "      <td>51.0</td>\n",
       "      <td>38.0</td>\n",
       "    </tr>\n",
       "    <tr>\n",
       "      <th>4</th>\n",
       "      <td>64.0</td>\n",
       "      <td>42.0</td>\n",
       "      <td>101.333333</td>\n",
       "      <td>70.400000</td>\n",
       "      <td>95.0</td>\n",
       "      <td>66.0</td>\n",
       "    </tr>\n",
       "    <tr>\n",
       "      <th>5</th>\n",
       "      <td>64.0</td>\n",
       "      <td>60.0</td>\n",
       "      <td>179.200000</td>\n",
       "      <td>116.266667</td>\n",
       "      <td>168.0</td>\n",
       "      <td>109.0</td>\n",
       "    </tr>\n",
       "  </tbody>\n",
       "</table>\n",
       "</div>"
      ],
      "text/plain": [
       "   $N_g$  $N_m$         $T$       $T_E$    $t$  $t_E$\n",
       "0   32.0   28.0   27.200000   20.266667   51.0   38.0\n",
       "1   32.0   42.0   50.666667   35.200000   95.0   66.0\n",
       "2   32.0   60.0   89.600000   58.133333  168.0  109.0\n",
       "3   64.0   28.0   54.400000   40.533333   51.0   38.0\n",
       "4   64.0   42.0  101.333333   70.400000   95.0   66.0\n",
       "5   64.0   60.0  179.200000  116.266667  168.0  109.0"
      ]
     },
     "execution_count": 44,
     "metadata": {},
     "output_type": "execute_result"
    }
   ],
   "source": [
    "timings"
   ]
  },
  {
   "cell_type": "code",
   "execution_count": 45,
   "metadata": {},
   "outputs": [
    {
     "data": {
      "text/plain": [
       "59.0"
      ]
     },
     "execution_count": 45,
     "metadata": {},
     "output_type": "execute_result"
    }
   ],
   "source": [
    "num_rounds_bf_elo"
   ]
  },
  {
   "cell_type": "code",
   "execution_count": null,
   "metadata": {},
   "outputs": [],
   "source": []
  }
 ],
 "metadata": {
  "kernelspec": {
   "display_name": "Python 3",
   "language": "python",
   "name": "python3"
  },
  "language_info": {
   "codemirror_mode": {
    "name": "ipython",
    "version": 3
   },
   "file_extension": ".py",
   "mimetype": "text/x-python",
   "name": "python",
   "nbconvert_exporter": "python",
   "pygments_lexer": "ipython3",
   "version": "3.5.2"
  }
 },
 "nbformat": 4,
 "nbformat_minor": 2
}
