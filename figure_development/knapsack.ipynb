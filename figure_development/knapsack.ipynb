{
 "cells": [
  {
   "cell_type": "code",
   "execution_count": 7,
   "metadata": {},
   "outputs": [],
   "source": [
    "import numpy as np\n",
    "import os\n",
    "import random\n",
    "import pandas as pd\n",
    "from lfig import LatexFigure\n",
    "import matplotlib.pyplot as plt\n",
    "import random"
   ]
  },
  {
   "cell_type": "code",
   "execution_count": 8,
   "metadata": {},
   "outputs": [],
   "source": [
    "num_objects = 6\n",
    "max_weight = 50\n",
    "weights = np.random.randint(1, 25, num_objects)\n",
    "values = np.random.randint(1, 50, num_objects)\n",
    "test_candidates = np.random.randint(1, 2**num_objects, 10)\n",
    "\n"
   ]
  },
  {
   "cell_type": "code",
   "execution_count": 10,
   "metadata": {},
   "outputs": [],
   "source": [
    "candidate_numbers = [51, 42, 30, 27, 56, 23, 34, 49, 29, 48, 3, 5]\n",
    "\n",
    "\n",
    "valid_candidates = []\n",
    "considered_already = []\n",
    "while len(valid_candidates) < 10:\n",
    "    n = np.random.randint(2**num_objects)\n",
    "    if n not in considered_already:\n",
    "        valid_candidates.append(n)\n",
    "\n",
    "        "
   ]
  },
  {
   "cell_type": "code",
   "execution_count": 75,
   "metadata": {},
   "outputs": [],
   "source": [
    "colourmap =  plt.cm.Pastel1"
   ]
  },
  {
   "cell_type": "code",
   "execution_count": 114,
   "metadata": {},
   "outputs": [],
   "source": [
    "dict_colours = {np.round(i, 1) : colourmap(i) for i in np.linspace(0, 1, 11)}"
   ]
  },
  {
   "cell_type": "code",
   "execution_count": 122,
   "metadata": {},
   "outputs": [
    {
     "name": "stdout",
     "output_type": "stream",
     "text": [
      "i= 0.0\n",
      "False\n",
      "i= 0.1\n",
      "False\n",
      "i= 0.2\n",
      "False\n",
      "i= 0.30000000000000004\n",
      "False\n",
      "i= 0.4\n",
      "False\n",
      "i= 0.5\n",
      "False\n",
      "i= 0.6000000000000001\n",
      "False\n",
      "i= 0.7000000000000001\n",
      "False\n",
      "i= 0.8\n",
      "True\n",
      "i= 0.9\n",
      "True\n",
      "i= 1.0\n"
     ]
    },
    {
     "ename": "KeyError",
     "evalue": "1.1",
     "output_type": "error",
     "traceback": [
      "\u001b[0;31m---------------------------------------------------------------------------\u001b[0m",
      "\u001b[0;31mKeyError\u001b[0m                                  Traceback (most recent call last)",
      "\u001b[0;32m<ipython-input-122-34dc9fc08bd0>\u001b[0m in \u001b[0;36m<module>\u001b[0;34m()\u001b[0m\n\u001b[1;32m      2\u001b[0m     \u001b[0mprint\u001b[0m\u001b[0;34m(\u001b[0m\u001b[0;34m\"i=\"\u001b[0m\u001b[0;34m,\u001b[0m \u001b[0mi\u001b[0m\u001b[0;34m)\u001b[0m\u001b[0;34m\u001b[0m\u001b[0m\n\u001b[1;32m      3\u001b[0m \u001b[0;34m\u001b[0m\u001b[0m\n\u001b[0;32m----> 4\u001b[0;31m     \u001b[0mprint\u001b[0m\u001b[0;34m(\u001b[0m\u001b[0mdict_colours\u001b[0m\u001b[0;34m[\u001b[0m\u001b[0mnp\u001b[0m\u001b[0;34m.\u001b[0m\u001b[0mround\u001b[0m\u001b[0;34m(\u001b[0m\u001b[0;36m1\u001b[0m\u001b[0;34m,\u001b[0m \u001b[0;36m1\u001b[0m\u001b[0;34m)\u001b[0m\u001b[0;34m]\u001b[0m \u001b[0;34m==\u001b[0m \u001b[0mdict_colours\u001b[0m\u001b[0;34m[\u001b[0m\u001b[0mnp\u001b[0m\u001b[0;34m.\u001b[0m\u001b[0mround\u001b[0m\u001b[0;34m(\u001b[0m\u001b[0mi\u001b[0m\u001b[0;34m+\u001b[0m\u001b[0;36m0.1\u001b[0m\u001b[0;34m,\u001b[0m \u001b[0;36m1\u001b[0m\u001b[0;34m)\u001b[0m\u001b[0;34m]\u001b[0m\u001b[0;34m)\u001b[0m\u001b[0;34m\u001b[0m\u001b[0m\n\u001b[0m",
      "\u001b[0;31mKeyError\u001b[0m: 1.1"
     ]
    }
   ],
   "source": [
    "for i in np.linspace(0, 1, 11):\n",
    "    print(\"i=\", i)\n",
    "    \n",
    "    print(dict_colours[np.round(1, 1)] == dict_colours[np.round(i+0.1, 1)])"
   ]
  },
  {
   "cell_type": "code",
   "execution_count": 123,
   "metadata": {},
   "outputs": [
    {
     "data": {
      "text/plain": [
       "{0.0: (0.984313725490196, 0.7058823529411765, 0.6823529411764706, 1.0),\n",
       " 0.1: (0.984313725490196, 0.7058823529411765, 0.6823529411764706, 1.0),\n",
       " 0.2: (0.7019607843137254, 0.803921568627451, 0.8901960784313725, 1.0),\n",
       " 0.3: (0.8, 0.9215686274509803, 0.7725490196078432, 1.0),\n",
       " 0.4: (0.8705882352941177, 0.796078431372549, 0.8941176470588236, 1.0),\n",
       " 0.5: (0.996078431372549, 0.8509803921568627, 0.6509803921568628, 1.0),\n",
       " 0.6: (1.0, 1.0, 0.8, 1.0),\n",
       " 0.7: (0.8980392156862745, 0.8470588235294118, 0.7411764705882353, 1.0),\n",
       " 0.8: (0.9921568627450981, 0.8549019607843137, 0.9254901960784314, 1.0),\n",
       " 0.9: (0.9490196078431372, 0.9490196078431372, 0.9490196078431372, 1.0),\n",
       " 1.0: (0.9490196078431372, 0.9490196078431372, 0.9490196078431372, 1.0)}"
      ]
     },
     "execution_count": 123,
     "metadata": {},
     "output_type": "execute_result"
    }
   ],
   "source": [
    "dict_colours"
   ]
  },
  {
   "cell_type": "code",
   "execution_count": 91,
   "metadata": {},
   "outputs": [
    {
     "data": {
      "text/plain": [
       "[(0.984313725490196, 0.7058823529411765, 0.6823529411764706, 1.0),\n",
       " (0.7019607843137254, 0.803921568627451, 0.8901960784313725, 1.0),\n",
       " (0.8, 0.9215686274509803, 0.7725490196078432, 1.0),\n",
       " (0.8705882352941177, 0.796078431372549, 0.8941176470588236, 1.0),\n",
       " (0.996078431372549, 0.8509803921568627, 0.6509803921568628, 1.0),\n",
       " (1.0, 1.0, 0.8, 1.0),\n",
       " (0.8980392156862745, 0.8470588235294118, 0.7411764705882353, 1.0),\n",
       " (0.8980392156862745, 0.8470588235294118, 0.7411764705882353, 1.0),\n",
       " (0.9490196078431372, 0.9490196078431372, 0.9490196078431372, 1.0),\n",
       " (0.9490196078431372, 0.9490196078431372, 0.9490196078431372, 1.0)]"
      ]
     },
     "execution_count": 91,
     "metadata": {},
     "output_type": "execute_result"
    }
   ],
   "source": [
    "list_colours"
   ]
  },
  {
   "cell_type": "code",
   "execution_count": 93,
   "metadata": {},
   "outputs": [
    {
     "data": {
      "text/plain": [
       "{0: False,\n",
       " 1: False,\n",
       " 2: False,\n",
       " 3: False,\n",
       " 4: False,\n",
       " 5: False,\n",
       " 6: True,\n",
       " 7: False,\n",
       " 8: True}"
      ]
     },
     "execution_count": 93,
     "metadata": {},
     "output_type": "execute_result"
    }
   ],
   "source": [
    "{i : list_colours[i] == list_colours[i+1]\n",
    " for i in range(len(list_colours)-1)\n",
    "}"
   ]
  },
  {
   "cell_type": "code",
   "execution_count": 139,
   "metadata": {},
   "outputs": [
    {
     "name": "stderr",
     "output_type": "stream",
     "text": [
      "/usr/local/lib/python3.5/dist-packages/matplotlib/tight_layout.py:181: UserWarning: Tight layout not applied. The bottom and top margins cannot be made large enough to accommodate all axes decorations. \n",
      "  warnings.warn('Tight layout not applied. '\n"
     ]
    },
    {
     "data": {
      "image/png": "[encoded data removed]",
      "text/plain": [
       "<Figure size 691.85x128.983 with 3 Axes>"
      ]
     },
     "metadata": {},
     "output_type": "display_data"
    }
   ],
   "source": [
    "values = np.array([48, 15, 26, 19, 39, 15])\n",
    "weights = np.array([21, 7, 2, 17, 10, 20 ])\n",
    "# generate colours\n",
    "list_colours = [colourmap(i) for i in np.linspace(0, 1, len(candidate_numbers)+1)]\n",
    "random.shuffle(list_colours) # shuffles in place\n",
    "# use colour set generated randomly which works well:\n",
    "list_colours = [\n",
    "    (0.984313725490196, 0.7058823529411765, 0.6823529411764706, 1.0),\n",
    "    (0.8, 0.9215686274509803, 0.7725490196078432, 1.0),\n",
    "    (1.0, 1.0, 0.8, 1.0),\n",
    "    (0.8980392156862745, 0.8470588235294118, 0.7411764705882353, 1.0),\n",
    "    (0.9921568627450981, 0.8549019607843137, 0.9254901960784314, 1.0),\n",
    "    (0.9490196078431372, 0.9490196078431372, 0.9490196078431372, 1.0),\n",
    "    (0.996078431372549, 0.8509803921568627, 0.6509803921568628, 1.0),\n",
    "    (0.9490196078431372, 0.9490196078431372, 0.9490196078431372, 1.0),\n",
    "    (0.7019607843137254, 0.803921568627451, 0.8901960784313725, 1.0),\n",
    "    (0.8980392156862745, 0.8470588235294118, 0.7411764705882353, 1.0),\n",
    "    (0.984313725490196, 0.7058823529411765, 0.6823529411764706, 1.0),\n",
    "    (0.8705882352941177, 0.796078431372549, 0.8941176470588236, 1.0),\n",
    "    (0.8705882352941177, 0.796078431372549, 0.8941176470588236, 1.0)\n",
    "]\n",
    "colour_set = iter(list_colours)\n",
    "\n",
    "candidate_scores = []\n",
    "for n in candidate_numbers:\n",
    "    considered_already.append(n)\n",
    "    bstring = format(n, 'b').zfill(num_objects)\n",
    "    candidate = np.array(list(bstring), dtype=int)\n",
    "    \n",
    "    total_weight = np.dot(candidate, weights)\n",
    "    total_value = np.dot(candidate, values)\n",
    "    valid = \"Yes\" if total_weight < max_weight else \"No\"\n",
    "    name = r\"$\\gamma_{{{}}}$\".format(candidate_numbers.index(n) + 1)\n",
    "    \n",
    "    candidate_scores.append({\n",
    "        'Candidate' : bstring,\n",
    "        'Name' : name, \n",
    "        'Weight' : total_weight,\n",
    "        'Value' : total_value, \n",
    "        'Valid' : valid,\n",
    "        \"Colour\" : next(colour_set),\n",
    "        \"n\" : n, \n",
    "        \n",
    "    })\n",
    "candidates_df = pd.DataFrame(candidate_scores)\n",
    "\n",
    "candidates_df.sort_values(\"Value\", ascending=False, inplace=True)\n",
    "\n",
    "\n",
    "lf = LatexFigure(\n",
    "    gridspec_layout = (1, 3),\n",
    "#     font_scale=1.5\n",
    "#     rc_params = {\"axes.labelsize\": 40,}\n",
    ")\n",
    "label_pos = (-0.25, 1.15)\n",
    "\n",
    "ax = lf.new_axis(label_position=label_pos)\n",
    "roulette_wheel(\n",
    "    candidates_df[candidates_df.Valid == \"Yes\"],\n",
    "    ax = ax\n",
    ")\n",
    "\n",
    "ax = lf.new_axis(label_position=label_pos)\n",
    "truncated = candidates_df[\n",
    "    (candidates_df.Valid == \"Yes\")\n",
    "    & (candidates_df.Value >= 87)\n",
    "]\n",
    "roulette_wheel(\n",
    "    truncated,\n",
    "    ax = ax\n",
    ")\n",
    "\n",
    "ax = lf.new_axis(label_position=label_pos)\n",
    "roulette_wheel(\n",
    "    truncated[1:],\n",
    "    ax = ax\n",
    "\n",
    ")\n",
    "\n",
    "lf.save(\n",
    "    os.path.join(\n",
    "        \"..\", \"theoretical_study\", \"figures\", \n",
    "        \"knapsack_roulette.pdf\"\n",
    "    )\n",
    ")"
   ]
  },
  {
   "cell_type": "code",
   "execution_count": 138,
   "metadata": {},
   "outputs": [
    {
     "data": {
      "text/plain": [
       "[(0.984313725490196, 0.7058823529411765, 0.6823529411764706, 1.0),\n",
       " (0.8, 0.9215686274509803, 0.7725490196078432, 1.0),\n",
       " (1.0, 1.0, 0.8, 1.0),\n",
       " (0.8980392156862745, 0.8470588235294118, 0.7411764705882353, 1.0),\n",
       " (0.9921568627450981, 0.8549019607843137, 0.9254901960784314, 1.0),\n",
       " (0.9490196078431372, 0.9490196078431372, 0.9490196078431372, 1.0),\n",
       " (0.996078431372549, 0.8509803921568627, 0.6509803921568628, 1.0),\n",
       " (0.9490196078431372, 0.9490196078431372, 0.9490196078431372, 1.0),\n",
       " (0.7019607843137254, 0.803921568627451, 0.8901960784313725, 1.0),\n",
       " (0.8980392156862745, 0.8470588235294118, 0.7411764705882353, 1.0),\n",
       " (0.984313725490196, 0.7058823529411765, 0.6823529411764706, 1.0),\n",
       " (0.8705882352941177, 0.796078431372549, 0.8941176470588236, 1.0),\n",
       " (0.8705882352941177, 0.796078431372549, 0.8941176470588236, 1.0)]"
      ]
     },
     "execution_count": 138,
     "metadata": {},
     "output_type": "execute_result"
    }
   ],
   "source": [
    "list_colours"
   ]
  },
  {
   "cell_type": "code",
   "execution_count": 140,
   "metadata": {},
   "outputs": [],
   "source": [
    "green_colour = "
   ]
  },
  {
   "cell_type": "code",
   "execution_count": 147,
   "metadata": {},
   "outputs": [
    {
     "data": {
      "text/plain": [
       "'#ffffcc'"
      ]
     },
     "execution_count": 147,
     "metadata": {},
     "output_type": "execute_result"
    }
   ],
   "source": [
    "import matplotlib\n",
    "matplotlib.colors.rgb2hex(list_colours[2])"
   ]
  },
  {
   "cell_type": "code",
   "execution_count": 135,
   "metadata": {},
   "outputs": [],
   "source": [
    "table_path=os.path.join(\n",
    "    os.getcwd(), \n",
    "    'knapsack.tex',\n",
    ")\n",
    "\n",
    "latex_table = candidates_df[\n",
    "    [\"Candidate\", \"Name\", \"Value\", \"Weight\", \"Valid\"]\n",
    "]\n",
    "latex_table.set_index(\n",
    "    [\"Name\", \"Candidate\",], \n",
    "    inplace=True\n",
    ")\n",
    "\n",
    "table = latex_table.to_latex(\n",
    "    buf=None, \n",
    "    bold_rows=False,\n",
    "    float_format=\"{:0.3g}\".format,\n",
    "    escape=False,\n",
    "    multirow=True,\n",
    "#     column_format=col_fmt,\n",
    "    index_names=True,\n",
    "    col_space = 40, \n",
    ")\n",
    "\n",
    "table = table.replace(\"\\\\toprule\", \"\\\\hline\")\n",
    "table = table.replace(\"\\\\bottomrule\", \"\\\\hline\")\n",
    "\n",
    "with open(table_path, 'w') as f:\n",
    "    f.write(table)"
   ]
  },
  {
   "cell_type": "code",
   "execution_count": 37,
   "metadata": {},
   "outputs": [],
   "source": [
    "def roulette_wheel(candidates_to_show, ax):\n",
    "\n",
    "    candidates = list(candidates_to_show.Name)\n",
    "    values = list(candidates_to_show.Value)\n",
    "    colours = list(candidates_to_show.Colour)\n",
    "\n",
    "    patches, texts = ax.pie(\n",
    "        values, \n",
    "        labels = candidates,\n",
    "        colors = colours, \n",
    "        radius = 1.5, \n",
    "    )\n",
    "    for t in texts:\n",
    "        # increase size so candidate labels are legible\n",
    "        t.set_fontsize(12.5)\n"
   ]
  },
  {
   "cell_type": "code",
   "execution_count": 148,
   "metadata": {},
   "outputs": [
    {
     "data": {
      "text/html": [
       "<div>\n",
       "<style scoped>\n",
       "    .dataframe tbody tr th:only-of-type {\n",
       "        vertical-align: middle;\n",
       "    }\n",
       "\n",
       "    .dataframe tbody tr th {\n",
       "        vertical-align: top;\n",
       "    }\n",
       "\n",
       "    .dataframe thead th {\n",
       "        text-align: right;\n",
       "    }\n",
       "</style>\n",
       "<table border=\"1\" class=\"dataframe\">\n",
       "  <thead>\n",
       "    <tr style=\"text-align: right;\">\n",
       "      <th></th>\n",
       "      <th>Candidate</th>\n",
       "      <th>Colour</th>\n",
       "      <th>Name</th>\n",
       "      <th>Valid</th>\n",
       "      <th>Value</th>\n",
       "      <th>Weight</th>\n",
       "      <th>n</th>\n",
       "    </tr>\n",
       "  </thead>\n",
       "  <tbody>\n",
       "    <tr>\n",
       "      <th>0</th>\n",
       "      <td>110011</td>\n",
       "      <td>(0.984313725490196, 0.7058823529411765, 0.6823...</td>\n",
       "      <td>$\\gamma_{1}$</td>\n",
       "      <td>No</td>\n",
       "      <td>117</td>\n",
       "      <td>58</td>\n",
       "      <td>51</td>\n",
       "    </tr>\n",
       "    <tr>\n",
       "      <th>1</th>\n",
       "      <td>101010</td>\n",
       "      <td>(0.8, 0.9215686274509803, 0.7725490196078432, ...</td>\n",
       "      <td>$\\gamma_{2}$</td>\n",
       "      <td>Yes</td>\n",
       "      <td>113</td>\n",
       "      <td>33</td>\n",
       "      <td>42</td>\n",
       "    </tr>\n",
       "    <tr>\n",
       "      <th>2</th>\n",
       "      <td>011110</td>\n",
       "      <td>(1.0, 1.0, 0.8, 1.0)</td>\n",
       "      <td>$\\gamma_{3}$</td>\n",
       "      <td>Yes</td>\n",
       "      <td>99</td>\n",
       "      <td>36</td>\n",
       "      <td>30</td>\n",
       "    </tr>\n",
       "    <tr>\n",
       "      <th>3</th>\n",
       "      <td>011011</td>\n",
       "      <td>(0.8980392156862745, 0.8470588235294118, 0.741...</td>\n",
       "      <td>$\\gamma_{4}$</td>\n",
       "      <td>Yes</td>\n",
       "      <td>95</td>\n",
       "      <td>39</td>\n",
       "      <td>27</td>\n",
       "    </tr>\n",
       "    <tr>\n",
       "      <th>4</th>\n",
       "      <td>111000</td>\n",
       "      <td>(0.9921568627450981, 0.8549019607843137, 0.925...</td>\n",
       "      <td>$\\gamma_{5}$</td>\n",
       "      <td>Yes</td>\n",
       "      <td>89</td>\n",
       "      <td>30</td>\n",
       "      <td>56</td>\n",
       "    </tr>\n",
       "    <tr>\n",
       "      <th>5</th>\n",
       "      <td>010111</td>\n",
       "      <td>(0.9490196078431372, 0.9490196078431372, 0.949...</td>\n",
       "      <td>$\\gamma_{6}$</td>\n",
       "      <td>No</td>\n",
       "      <td>88</td>\n",
       "      <td>54</td>\n",
       "      <td>23</td>\n",
       "    </tr>\n",
       "    <tr>\n",
       "      <th>6</th>\n",
       "      <td>100010</td>\n",
       "      <td>(0.996078431372549, 0.8509803921568627, 0.6509...</td>\n",
       "      <td>$\\gamma_{7}$</td>\n",
       "      <td>Yes</td>\n",
       "      <td>87</td>\n",
       "      <td>31</td>\n",
       "      <td>34</td>\n",
       "    </tr>\n",
       "    <tr>\n",
       "      <th>7</th>\n",
       "      <td>110001</td>\n",
       "      <td>(0.9490196078431372, 0.9490196078431372, 0.949...</td>\n",
       "      <td>$\\gamma_{8}$</td>\n",
       "      <td>Yes</td>\n",
       "      <td>78</td>\n",
       "      <td>48</td>\n",
       "      <td>49</td>\n",
       "    </tr>\n",
       "    <tr>\n",
       "      <th>8</th>\n",
       "      <td>011101</td>\n",
       "      <td>(0.7019607843137254, 0.803921568627451, 0.8901...</td>\n",
       "      <td>$\\gamma_{9}$</td>\n",
       "      <td>Yes</td>\n",
       "      <td>75</td>\n",
       "      <td>46</td>\n",
       "      <td>29</td>\n",
       "    </tr>\n",
       "    <tr>\n",
       "      <th>9</th>\n",
       "      <td>110000</td>\n",
       "      <td>(0.8980392156862745, 0.8470588235294118, 0.741...</td>\n",
       "      <td>$\\gamma_{10}$</td>\n",
       "      <td>Yes</td>\n",
       "      <td>63</td>\n",
       "      <td>28</td>\n",
       "      <td>48</td>\n",
       "    </tr>\n",
       "    <tr>\n",
       "      <th>10</th>\n",
       "      <td>000011</td>\n",
       "      <td>(0.984313725490196, 0.7058823529411765, 0.6823...</td>\n",
       "      <td>$\\gamma_{11}$</td>\n",
       "      <td>Yes</td>\n",
       "      <td>54</td>\n",
       "      <td>30</td>\n",
       "      <td>3</td>\n",
       "    </tr>\n",
       "    <tr>\n",
       "      <th>11</th>\n",
       "      <td>000101</td>\n",
       "      <td>(0.8705882352941177, 0.796078431372549, 0.8941...</td>\n",
       "      <td>$\\gamma_{12}$</td>\n",
       "      <td>Yes</td>\n",
       "      <td>34</td>\n",
       "      <td>37</td>\n",
       "      <td>5</td>\n",
       "    </tr>\n",
       "  </tbody>\n",
       "</table>\n",
       "</div>"
      ],
      "text/plain": [
       "   Candidate                                             Colour  \\\n",
       "0     110011  (0.984313725490196, 0.7058823529411765, 0.6823...   \n",
       "1     101010  (0.8, 0.9215686274509803, 0.7725490196078432, ...   \n",
       "2     011110                               (1.0, 1.0, 0.8, 1.0)   \n",
       "3     011011  (0.8980392156862745, 0.8470588235294118, 0.741...   \n",
       "4     111000  (0.9921568627450981, 0.8549019607843137, 0.925...   \n",
       "5     010111  (0.9490196078431372, 0.9490196078431372, 0.949...   \n",
       "6     100010  (0.996078431372549, 0.8509803921568627, 0.6509...   \n",
       "7     110001  (0.9490196078431372, 0.9490196078431372, 0.949...   \n",
       "8     011101  (0.7019607843137254, 0.803921568627451, 0.8901...   \n",
       "9     110000  (0.8980392156862745, 0.8470588235294118, 0.741...   \n",
       "10    000011  (0.984313725490196, 0.7058823529411765, 0.6823...   \n",
       "11    000101  (0.8705882352941177, 0.796078431372549, 0.8941...   \n",
       "\n",
       "             Name Valid  Value  Weight   n  \n",
       "0    $\\gamma_{1}$    No    117      58  51  \n",
       "1    $\\gamma_{2}$   Yes    113      33  42  \n",
       "2    $\\gamma_{3}$   Yes     99      36  30  \n",
       "3    $\\gamma_{4}$   Yes     95      39  27  \n",
       "4    $\\gamma_{5}$   Yes     89      30  56  \n",
       "5    $\\gamma_{6}$    No     88      54  23  \n",
       "6    $\\gamma_{7}$   Yes     87      31  34  \n",
       "7    $\\gamma_{8}$   Yes     78      48  49  \n",
       "8    $\\gamma_{9}$   Yes     75      46  29  \n",
       "9   $\\gamma_{10}$   Yes     63      28  48  \n",
       "10  $\\gamma_{11}$   Yes     54      30   3  \n",
       "11  $\\gamma_{12}$   Yes     34      37   5  "
      ]
     },
     "execution_count": 148,
     "metadata": {},
     "output_type": "execute_result"
    }
   ],
   "source": [
    "candidates_df"
   ]
  },
  {
   "cell_type": "code",
   "execution_count": null,
   "metadata": {},
   "outputs": [],
   "source": []
  }
 ],
 "metadata": {
  "kernelspec": {
   "display_name": "Python 3",
   "language": "python",
   "name": "python3"
  },
  "language_info": {
   "codemirror_mode": {
    "name": "ipython",
    "version": 3
   },
   "file_extension": ".py",
   "mimetype": "text/x-python",
   "name": "python",
   "nbconvert_exporter": "python",
   "pygments_lexer": "ipython3",
   "version": "3.5.2"
  }
 },
 "nbformat": 4,
 "nbformat_minor": 2
}
