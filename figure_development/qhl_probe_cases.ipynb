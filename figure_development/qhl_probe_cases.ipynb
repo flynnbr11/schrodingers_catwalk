{
 "cells": [
  {
   "cell_type": "code",
   "execution_count": 1,
   "metadata": {},
   "outputs": [],
   "source": [
    "import sys\n",
    "import os\n",
    "import numpy as np\n",
    "import pickle\n",
    "import pandas as pd\n",
    "import seaborn as sns\n",
    "import sklearn\n",
    "import matplotlib.pyplot as plt\n",
    "import itertools\n",
    "import qinfer as qi\n",
    "from lfig import LatexFigure\n",
    "\n",
    "sys.path.append(\"/home/bf16951/QMD\")\n",
    "import qmla\n",
    "\n",
    "%matplotlib inline"
   ]
  },
  {
   "cell_type": "code",
   "execution_count": 2,
   "metadata": {},
   "outputs": [],
   "source": [
    "runs_and_instances = {\n",
    "    \"14_43\" : [1,2,3,4],\n",
    "    \"14_45\" :[1,2,3,8],\n",
    "    \"14_46\" : [1,2,3,4], \n",
    "    \"14_48\" : [1,2,3,4]\n",
    "}"
   ]
  },
  {
   "cell_type": "code",
   "execution_count": 3,
   "metadata": {},
   "outputs": [],
   "source": [
    "experiments = sorted(range(1001))\n",
    "probe_names = {\n",
    "    \"separable_probe_dict\" : r\"$| r \\rangle$\", \n",
    "    \"tomographic_basis\" : r\"$|t\\rangle$\",\n",
    "    \"zero_state_probes\" : r\"$|0\\rangle$\",\n",
    "    \"plus_probes_dict\" : r\"$|+\\rangle$\"\n",
    "}\n",
    "name_descriptions = {\n",
    "#     \"pauliSet_1_z_d1\" : r'$\\sigma_{(1)}^{z}$',\n",
    "#     \"pauliSet_1_x_d1+pauliSet_1_y_d1+pauliSet_1_z_d1\" : '$\\sigma_{(1)}^{xyz}$', \n",
    "#     \"pauliSet_1J3_zJz_d5+pauliSet_1J4_zJz_d5+pauliSet_1J5_zJz_d5+pauliSet_2J4_zJz_d5+pauliSet_2J5_zJz_d5+pauliSet_3J4_zJz_d5+pauliSet_3J5_zJz_d5\" : \"Ising\", \n",
    "#     \"pauliSet_1J2_zJz_d4+pauliSet_1J3_zJz_d4+pauliSet_2J3_xJx_d4+pauliSet_2J3_zJz_d4+pauliSet_2J4_xJx_d4+pauliSet_3J4_zJz_d4\" : \"Heisenberg\"\n",
    "    \"pauliSet_1_z_d1\" : r'$\\hat{H}_1$',\n",
    "    \"pauliSet_1_x_d1+pauliSet_1_y_d1+pauliSet_1_z_d1\" :  r'$\\hat{H}_2$', \n",
    "    \"pauliSet_1J3_zJz_d5+pauliSet_1J4_zJz_d5+pauliSet_1J5_zJz_d5+pauliSet_2J4_zJz_d5+pauliSet_2J5_zJz_d5+pauliSet_3J4_zJz_d5+pauliSet_3J5_zJz_d5\" : r'$\\hat{H}_3$',  \n",
    "    \"pauliSet_1J2_zJz_d4+pauliSet_1J3_zJz_d4+pauliSet_2J3_xJx_d4+pauliSet_2J3_zJz_d4+pauliSet_2J4_xJx_d4+pauliSet_3J4_zJz_d4\" : r'$\\hat{H}_4$', \n",
    "}"
   ]
  },
  {
   "cell_type": "code",
   "execution_count": 4,
   "metadata": {},
   "outputs": [],
   "source": [
    "\n",
    "volumes = pd.DataFrame()\n",
    "\n",
    "for run_dir in runs_and_instances:\n",
    "    run_path = \"Nov_27/{}\".format(run_dir)\n",
    "    \n",
    "    for instance in runs_and_instances[run_dir]:\n",
    "    \n",
    "        results = qmla.load_results(\n",
    "            results_folder = \"/home/bf16951/thesis/qmla_run_data\",\n",
    "            results_time = run_path,\n",
    "            instance_id = instance\n",
    "        )\n",
    "        q = results['qmla_instance']\n",
    "        model = q.get_model_storage_instance_by_id(1)\n",
    "        \n",
    "        this_models_volumes = pd.DataFrame(\n",
    "            np.array([\n",
    "                [\n",
    "                    probe_names[q.exploration_class.system_probes_generation_subroutine.__name__], \n",
    "                    q.exploration_class.latex_name(model.name), \n",
    "                    model.name,  \n",
    "                    name_descriptions[model.name], \n",
    "                    e, \n",
    "                    float(model.volume_by_epoch[e])\n",
    "                ] for e in experiments\n",
    "            ]),\n",
    "            columns = ['probe', 'model', 'raw_name', \"description\",  'experiment', 'volume']\n",
    "        )\n",
    "    \n",
    "        \n",
    "        volumes = volumes.append(this_models_volumes, ignore_index=True)\n",
    "volumes.experiment = volumes.experiment.astype(float)\n",
    "volumes.volume = volumes.volume.astype(float)\n",
    "sorted_probes = ['$|0\\\\rangle$', '$|+\\\\rangle$', '$|t\\\\rangle$', '$| r \\\\rangle$']"
   ]
  },
  {
   "cell_type": "code",
   "execution_count": 5,
   "metadata": {},
   "outputs": [
    {
     "data": {
      "text/plain": [
       "16016"
      ]
     },
     "execution_count": 5,
     "metadata": {},
     "output_type": "execute_result"
    }
   ],
   "source": [
    "len(volumes)"
   ]
  },
  {
   "cell_type": "code",
   "execution_count": 105,
   "metadata": {},
   "outputs": [
    {
     "name": "stderr",
     "output_type": "stream",
     "text": [
      "/usr/local/lib/python3.5/dist-packages/matplotlib/figure.py:2369: UserWarning: This figure includes Axes that are not compatible with tight_layout, so results might be incorrect.\n",
      "  warnings.warn(\"This figure includes Axes that are not compatible \"\n"
     ]
    },
    {
     "data": {
      "image/png": "[encoded data removed]",
      "text/plain": [
       "<Figure size 691.85x94.1974 with 4 Axes>"
      ]
     },
     "metadata": {},
     "output_type": "display_data"
    }
   ],
   "source": [
    "lf = LatexFigure(\n",
    "    fraction=1, \n",
    "#     auto_gridspec=4,\n",
    "    gridspec_params = {'wspace' : 0.5},\n",
    "    gridspec_layout=(1,4)\n",
    ")\n",
    "\n",
    "for desc in volumes.description.unique():\n",
    "    ax = lf.new_axis()\n",
    "    \n",
    "    model_name = volumes[volumes.description == desc].model.unique()[0]\n",
    "    data = volumes[volumes.description == desc]\n",
    "\n",
    "    for probe in sorted_probes:\n",
    "        these_volumes = data[\n",
    "            data.probe == probe\n",
    "        ].volume.values\n",
    "  \n",
    "        ax.plot(\n",
    "            experiments, \n",
    "            these_volumes,\n",
    "            label = probe\n",
    "        )\n",
    "\n",
    "    if ax.grid_position == (0,1):\n",
    "        ax.legend(\n",
    "            ncol=4,\n",
    "            bbox_to_anchor=(3, 1.8)\n",
    "        )\n",
    "    \n",
    "    ax.semilogy()\n",
    "\n",
    "#     if ax.row == 0:\n",
    "#         ax.set_xlabel(\"\")\n",
    "#         ax.set_xticks([])\n",
    "#     else:\n",
    "#         ax.set_xlabel(\"Experiment\")\n",
    "        \n",
    "    if ax.col != 0:\n",
    "        ax.set_ylabel(\"\")\n",
    "    else:\n",
    "        ax.set_ylabel(\"Volume\")\n",
    "        \n",
    "#     ax.set_title(model_name)\n",
    "    ax.set_title(desc)\n",
    "    \n",
    "lf.fig.text(0.5, -0.3, \"Experiment\", ha='center')\n",
    "lf.save(\"/home/bf16951/thesis/qmla_run_data/Nov_27/training_probes.pdf\")\n"
   ]
  },
  {
   "cell_type": "code",
   "execution_count": 103,
   "metadata": {},
   "outputs": [
    {
     "data": {
      "text/plain": [
       "array(['$|+\\\\rangle$', '$|t\\\\rangle$', '$|0\\\\rangle$', '$| r \\\\rangle$'],\n",
       "      dtype=object)"
      ]
     },
     "execution_count": 103,
     "metadata": {},
     "output_type": "execute_result"
    }
   ],
   "source": [
    "data.probe.unique()"
   ]
  },
  {
   "cell_type": "code",
   "execution_count": 226,
   "metadata": {},
   "outputs": [],
   "source": [
    "probe_types = {\n",
    "    r\"$| r \\rangle$\" : \"14_48\", \n",
    "    r\"$|t\\rangle$\" : \"14_46\", \n",
    "    r\"$|0\\rangle$\" : \"14_45\",\n",
    "    r\"$|+\\rangle$\" : \"14_43\"\n",
    "}\n",
    "probe_names = {\n",
    "    r\"$| r \\rangle$\" : \"random_probes\", \n",
    "    r\"$|t\\rangle$\" : \"tomographic_probes\", \n",
    "    r\"$|0\\rangle$\" : \"zero_probes\",\n",
    "    r\"$|+\\rangle$\" : \"plus_probes\"   \n",
    "}\n",
    "probe_colours = {\n",
    "    r\"$| r \\rangle$\" : \"red\", \n",
    "    r\"$|t\\rangle$\" : \"green\", \n",
    "    r\"$|0\\rangle$\" : \"blue\",\n",
    "    r\"$|+\\rangle$\" : \"orange\"       \n",
    "}"
   ]
  },
  {
   "cell_type": "code",
   "execution_count": 235,
   "metadata": {},
   "outputs": [],
   "source": [
    "probes_to_plot = list(probe_types.keys())\n",
    "\n",
    "for ptype in probes_to_plot:\n",
    "    run_path = \"Nov_27/{}\".format(probe_types[ptype])\n",
    "    results = qmla.load_results(\n",
    "        results_folder = \"/home/bf16951/thesis/qmla_run_data\",\n",
    "        results_time = run_path,\n",
    "        instance_id=1\n",
    "    )\n",
    "    q = results['qmla_instance']\n",
    "    probe_dict = q.probes_system\n",
    "\n",
    "    save_path = os.path.join(\"/home/bf16951/thesis/qmla_run_data/Nov_27/{}.pdf\".format(\n",
    "        probe_names[ptype])\n",
    "    )\n",
    "    \n",
    "    fig, ax = plt.subplots(\n",
    "        figsize=(5, 5), \n",
    "        subplot_kw=dict(projection='3d')\n",
    "    )\n",
    "\n",
    "    ax.axis('square') # to get a nice circular plot\n",
    "\n",
    "    # isolate 1 qubit probes\n",
    "    probe_ids = [t for t in list(probe_dict.keys()) if t[1] == 1]\n",
    "    b1 = qutip.Bloch(\n",
    "        fig=fig, \n",
    "        axes=ax,\n",
    "    )\n",
    "    colour = probe_colours[ptype]\n",
    "    b1.vector_color = [colour]\n",
    "\n",
    "    for pid in probe_ids:\n",
    "        state = probe_dict[pid]\n",
    "        a = state[0]\n",
    "        b = state[1]\n",
    "        A = a * qt.basis(2, 0)\n",
    "        B = b * qt.basis(2, 1)\n",
    "        vec = (A + B)\n",
    "        b1.add_states(vec)\n",
    "    \n",
    "    ax.set_title(ptype)\n",
    "\n",
    "    # You can anything else you want to the axis as well!\n",
    "    ax.annotate(\n",
    "        ptype, \n",
    "        xy=(0.0, 0.9), \n",
    "        xytext=(0, 0.7), \n",
    "        xycoords='axes fraction',\n",
    "        fontsize=75, \n",
    "        color=colour, \n",
    "        ha='center',\n",
    "    )\n",
    "    \n",
    "    b1.save(save_path)\n",
    "#     b1.show()"
   ]
  },
  {
   "cell_type": "code",
   "execution_count": null,
   "metadata": {},
   "outputs": [],
   "source": []
  }
 ],
 "metadata": {
  "kernelspec": {
   "display_name": "Python 3",
   "language": "python",
   "name": "python3"
  },
  "language_info": {
   "codemirror_mode": {
    "name": "ipython",
    "version": 3
   },
   "file_extension": ".py",
   "mimetype": "text/x-python",
   "name": "python",
   "nbconvert_exporter": "python",
   "pygments_lexer": "ipython3",
   "version": "3.5.2"
  }
 },
 "nbformat": 4,
 "nbformat_minor": 2
}
